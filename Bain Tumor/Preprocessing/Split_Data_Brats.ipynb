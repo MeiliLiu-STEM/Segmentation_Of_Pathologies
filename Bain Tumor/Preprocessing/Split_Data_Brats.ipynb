{
 "cells": [
  {
   "cell_type": "code",
   "execution_count": 1,
   "metadata": {},
   "outputs": [
    {
     "name": "stderr",
     "output_type": "stream",
     "text": [
      "C:\\Users\\Nassim\\Anaconda3\\lib\\site-packages\\h5py\\__init__.py:34: FutureWarning: Conversion of the second argument of issubdtype from `float` to `np.floating` is deprecated. In future, it will be treated as `np.float64 == np.dtype(float).type`.\n",
      "  from ._conv import register_converters as _register_converters\n"
     ]
    }
   ],
   "source": [
    "import tensorlayer as tl\n",
    "import numpy as np\n",
    "import os, csv, random\n",
    "import nibabel as nib\n",
    "from PIL import Image"
   ]
  },
  {
   "cell_type": "code",
   "execution_count": 2,
   "metadata": {
    "collapsed": true
   },
   "outputs": [],
   "source": [
    "HGG = \"E:/BRATS2017/HGG/\"\n",
    "LGG = \"E:/BRATS2017/LGG/\""
   ]
  },
  {
   "cell_type": "code",
   "execution_count": 3,
   "metadata": {
    "collapsed": true
   },
   "outputs": [],
   "source": [
    "DR_HGG = tl.files.load_folder_list(path=HGG)\n",
    "DR_LGG = tl.files.load_folder_list(path=LGG)"
   ]
  },
  {
   "cell_type": "code",
   "execution_count": 4,
   "metadata": {},
   "outputs": [
    {
     "name": "stdout",
     "output_type": "stream",
     "text": [
      "210   75\n"
     ]
    }
   ],
   "source": [
    "print(len(DR_HGG),' ',len(DR_LGG))"
   ]
  },
  {
   "cell_type": "code",
   "execution_count": 5,
   "metadata": {
    "collapsed": true
   },
   "outputs": [],
   "source": [
    "HGG_name_list = ['HGG/'+os.path.basename(p) for p in DR_HGG]\n",
    "random.shuffle(HGG_name_list)\n",
    "train_HGG = HGG_name_list[:168]\n",
    "test_HGG = HGG_name_list[168:]\n",
    "LGG_name_list = ['LGG/'+os.path.basename(p) for p in DR_LGG]\n",
    "random.shuffle(LGG_name_list)\n",
    "train_LGG = LGG_name_list[:60]\n",
    "test_LGG = LGG_name_list[60:]\n",
    "Data_list_train = train_HGG + train_LGG\n",
    "Data_list_test = test_HGG + test_LGG"
   ]
  },
  {
   "cell_type": "code",
   "execution_count": 6,
   "metadata": {
    "collapsed": true
   },
   "outputs": [],
   "source": [
    "outF = open(\"E:/BRATS2017/Data_names/train_names.txt\", \"w\")\n",
    "for line in Data_list_train:\n",
    "  # write line to output file\n",
    "    outF.write(line)\n",
    "    outF.write(\"\\n\")\n",
    "outF.close()\n",
    "outF = open(\"E:/BRATS2017/Data_names/test_names.txt\", \"w\")\n",
    "for line in Data_list_test:\n",
    "  # write line to output file\n",
    "    outF.write(line)\n",
    "    outF.write(\"\\n\")\n",
    "outF.close()"
   ]
  },
  {
   "cell_type": "code",
   "execution_count": 5,
   "metadata": {
    "collapsed": true
   },
   "outputs": [],
   "source": [
    "valid_name_list = [os.path.basename(p) for p in DR_path_list]"
   ]
  },
  {
   "cell_type": "code",
   "execution_count": 9,
   "metadata": {
    "collapsed": true
   },
   "outputs": [],
   "source": [
    "outF = open(\"D:/valid_names.txt\", \"w\")\n",
    "for line in valid_name_list:\n",
    "  # write line to output file\n",
    "    outF.write(line)\n",
    "    outF.write(\"\\n\")\n",
    "outF.close()"
   ]
  }
 ],
 "metadata": {
  "kernelspec": {
   "display_name": "Python 3",
   "language": "python",
   "name": "python3"
  },
  "language_info": {
   "codemirror_mode": {
    "name": "ipython",
    "version": 3
   },
   "file_extension": ".py",
   "mimetype": "text/x-python",
   "name": "python",
   "nbconvert_exporter": "python",
   "pygments_lexer": "ipython3",
   "version": "3.6.3"
  }
 },
 "nbformat": 4,
 "nbformat_minor": 2
}
