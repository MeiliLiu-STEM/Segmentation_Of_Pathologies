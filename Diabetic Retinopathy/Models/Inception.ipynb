{
 "cells": [
  {
   "cell_type": "code",
   "execution_count": 1,
   "metadata": {
    "colab": {
     "autoexec": {
      "startup": false,
      "wait_interval": 0
     },
     "base_uri": "https://localhost:8080/",
     "height": 112
    },
    "colab_type": "code",
    "executionInfo": {
     "elapsed": 32165,
     "status": "ok",
     "timestamp": 1528495393713,
     "user": {
      "displayName": "nassim guergouri",
      "photoUrl": "https://lh3.googleusercontent.com/a/default-user=s128",
      "userId": "107153118297599416470"
     },
     "user_tz": -60
    },
    "id": "nOBE6whX06nY",
    "outputId": "893d5b56-ea59-423c-e3ad-b7a734b8cc23"
   },
   "outputs": [
    {
     "name": "stdout",
     "output_type": "stream",
     "text": [
      "Please, open the following URL in a web browser: https://accounts.google.com/o/oauth2/auth?client_id=32555940559.apps.googleusercontent.com&redirect_uri=urn%3Aietf%3Awg%3Aoauth%3A2.0%3Aoob&scope=https%3A%2F%2Fwww.googleapis.com%2Fauth%2Fdrive&response_type=code&access_type=offline&approval_prompt=force\r\n",
      "··········\n",
      "Please, open the following URL in a web browser: https://accounts.google.com/o/oauth2/auth?client_id=32555940559.apps.googleusercontent.com&redirect_uri=urn%3Aietf%3Awg%3Aoauth%3A2.0%3Aoob&scope=https%3A%2F%2Fwww.googleapis.com%2Fauth%2Fdrive&response_type=code&access_type=offline&approval_prompt=force\n",
      "Please enter the verification code: Access token retrieved correctly.\n"
     ]
    }
   ],
   "source": [
    "!apt-get install -y -qq software-properties-common python-software-properties module-init-tools\n",
    "!add-apt-repository -y ppa:alessandro-strada/ppa 2>&1 > /dev/null\n",
    "!apt-get update -qq 2>&1 > /dev/null\n",
    "!apt-get -y install -qq google-drive-ocamlfuse fuse\n",
    "from google.colab import auth\n",
    "auth.authenticate_user()\n",
    "from oauth2client.client import GoogleCredentials\n",
    "creds = GoogleCredentials.get_application_default()\n",
    "import getpass\n",
    "!google-drive-ocamlfuse -headless -id={creds.client_id} -secret={creds.client_secret} < /dev/null 2>&1 | grep URL\n",
    "vcode = getpass.getpass()\n",
    "!echo {vcode} | google-drive-ocamlfuse -headless -id={creds.client_id} -secret={creds.client_secret}"
   ]
  },
  {
   "cell_type": "code",
   "execution_count": 0,
   "metadata": {
    "colab": {
     "autoexec": {
      "startup": false,
      "wait_interval": 0
     }
    },
    "colab_type": "code",
    "collapsed": true,
    "id": "AWQXtvYa1_tQ"
   },
   "outputs": [],
   "source": [
    "!mkdir -p drive\n",
    "!google-drive-ocamlfuse drive"
   ]
  },
  {
   "cell_type": "code",
   "execution_count": 0,
   "metadata": {
    "colab": {
     "autoexec": {
      "startup": false,
      "wait_interval": 0
     }
    },
    "colab_type": "code",
    "collapsed": true,
    "id": "oWhWfTmRj4wE"
   },
   "outputs": [],
   "source": [
    "!pip install prettytensor\n",
    "!pip install tensorlayer"
   ]
  },
  {
   "cell_type": "code",
   "execution_count": 0,
   "metadata": {
    "colab": {
     "autoexec": {
      "startup": false,
      "wait_interval": 0
     }
    },
    "colab_type": "code",
    "collapsed": true,
    "id": "Y_uz6RTcw11k"
   },
   "outputs": [],
   "source": [
    "%matplotlib inline\n",
    "import matplotlib.pyplot as plt\n",
    "import tensorflow as tf\n",
    "import numpy as np\n",
    "import time\n",
    "import pandas\n",
    "import tensorlayer as tl\n",
    "from datetime import timedelta\n",
    "import os\n",
    "from sklearn.model_selection import train_test_split\n",
    "import drive.app.inception as inception\n",
    "import prettytensor as pt"
   ]
  },
  {
   "cell_type": "code",
   "execution_count": 0,
   "metadata": {
    "colab": {
     "autoexec": {
      "startup": false,
      "wait_interval": 0
     }
    },
    "colab_type": "code",
    "collapsed": true,
    "id": "YOhf-UKGxpf8"
   },
   "outputs": [],
   "source": [
    "def read_data_sets():\n",
    "    print(\"Reading Data\")\n",
    "    labels = pandas.read_csv(\"drive/app/trainLabels.csv\")\n",
    "    y = np.array([label for label in labels['level']])\n",
    "    X = np.load(\"drive/app/X_train.npy\")\n",
    "    print(\"Splitting data into test/ train datasets\")\n",
    "    X_train, X_test, y_train, y_test = train_test_split(X, y, test_size=0.2, random_state=42)\n",
    "    y_train = pandas.get_dummies(y_train)\n",
    "    y_train = np.array(y_train,dtype= 'float32')\n",
    "    y_test = pandas.get_dummies(y_test)\n",
    "    y_test = np.array(y_test,dtype= 'float32')\n",
    "    X_train = X_train.reshape(X_train.shape[0],256,256,3)\n",
    "    X_test = X_test.reshape(X_test.shape[0],256,256,3)\n",
    "    return X_train,y_train,X_test,y_test "
   ]
  },
  {
   "cell_type": "code",
   "execution_count": 0,
   "metadata": {
    "colab": {
     "autoexec": {
      "startup": false,
      "wait_interval": 0
     },
     "base_uri": "https://localhost:8080/",
     "height": 55
    },
    "colab_type": "code",
    "executionInfo": {
     "elapsed": 108341,
     "status": "ok",
     "timestamp": 1526736160828,
     "user": {
      "displayName": "Nassim Guergouri",
      "photoUrl": "https://lh3.googleusercontent.com/a/default-user=s128",
      "userId": "117311986884585277917"
     },
     "user_tz": -60
    },
    "id": "yxlH0kks0yFy",
    "outputId": "d6fb67b8-1330-4439-b38c-c41923cba654"
   },
   "outputs": [
    {
     "name": "stdout",
     "output_type": "stream",
     "text": [
      "Reading Data\n",
      "Splitting data into test/ train datasets\n"
     ]
    }
   ],
   "source": [
    "# Loading data to training set and testing set\n",
    "images_train, labels_train, images_test, labels_test = read_data_sets()"
   ]
  },
  {
   "cell_type": "code",
   "execution_count": 0,
   "metadata": {
    "colab": {
     "autoexec": {
      "startup": false,
      "wait_interval": 0
     }
    },
    "colab_type": "code",
    "collapsed": true,
    "id": "3o7KUgKP2wOA"
   },
   "outputs": [],
   "source": [
    "print(\"Size of:\")\n",
    "print(\"- Training-set:\\t\\t{}\".format(len(images_train)))\n",
    "print(\"- Test-set:\\t\\t{}\".format(len(images_test)))"
   ]
  },
  {
   "cell_type": "code",
   "execution_count": 8,
   "metadata": {
    "colab": {
     "autoexec": {
      "startup": false,
      "wait_interval": 0
     },
     "base_uri": "https://localhost:8080/",
     "height": 92
    },
    "colab_type": "code",
    "executionInfo": {
     "elapsed": 29383,
     "status": "ok",
     "timestamp": 1528495491322,
     "user": {
      "displayName": "nassim guergouri",
      "photoUrl": "https://lh3.googleusercontent.com/a/default-user=s128",
      "userId": "107153118297599416470"
     },
     "user_tz": -60
    },
    "id": "dGarDUzC22p0",
    "outputId": "2789ac9c-bb58-4a48-eb6d-807aa5da9f04"
   },
   "outputs": [
    {
     "name": "stdout",
     "output_type": "stream",
     "text": [
      "Downloading Inception v3 Model ...\n",
      "- Download progress: 100.0%\n",
      "Download finished. Extracting files.\n",
      "Done.\n"
     ]
    }
   ],
   "source": [
    "# load Inception model\n",
    "inception.maybe_download()"
   ]
  },
  {
   "cell_type": "code",
   "execution_count": 0,
   "metadata": {
    "colab": {
     "autoexec": {
      "startup": false,
      "wait_interval": 0
     }
    },
    "colab_type": "code",
    "collapsed": true,
    "id": "YrMify6Q4Zzu"
   },
   "outputs": [],
   "source": [
    "model = inception.Inception()"
   ]
  },
  {
   "cell_type": "code",
   "execution_count": 0,
   "metadata": {
    "colab": {
     "autoexec": {
      "startup": false,
      "wait_interval": 0
     }
    },
    "colab_type": "code",
    "collapsed": true,
    "id": "5Swmfw4o4atK"
   },
   "outputs": [],
   "source": [
    "from drive.app.inception import transfer_values_cache"
   ]
  },
  {
   "cell_type": "code",
   "execution_count": 0,
   "metadata": {
    "colab": {
     "autoexec": {
      "startup": false,
      "wait_interval": 0
     }
    },
    "colab_type": "code",
    "collapsed": true,
    "id": "Xv8-ezbF4eyk"
   },
   "outputs": [],
   "source": [
    "file_path_cache_train = os.path.join('drive/app/train_split1/', 'inception_dr_train1.pkl')\n",
    "file_path_cache_test = os.path.join('drive/app/train_split1/', 'inception_dr_test1.pkl')"
   ]
  },
  {
   "cell_type": "code",
   "execution_count": 0,
   "metadata": {
    "colab": {
     "autoexec": {
      "startup": false,
      "wait_interval": 0
     }
    },
    "colab_type": "code",
    "collapsed": true,
    "id": "XX4B8ZdV0Mlj"
   },
   "outputs": [],
   "source": [
    "x_train = np.array([])"
   ]
  },
  {
   "cell_type": "code",
   "execution_count": 13,
   "metadata": {
    "colab": {
     "autoexec": {
      "startup": false,
      "wait_interval": 0
     },
     "base_uri": "https://localhost:8080/",
     "height": 55
    },
    "colab_type": "code",
    "executionInfo": {
     "elapsed": 7228,
     "status": "ok",
     "timestamp": 1528495538710,
     "user": {
      "displayName": "nassim guergouri",
      "photoUrl": "https://lh3.googleusercontent.com/a/default-user=s128",
      "userId": "107153118297599416470"
     },
     "user_tz": -60
    },
    "id": "LD3rowdy4oDu",
    "outputId": "a81167ca-5dc1-4fb1-e039-08f52757fbc0"
   },
   "outputs": [
    {
     "name": "stdout",
     "output_type": "stream",
     "text": [
      "Processing Inception transfer-values for training-images ...\n",
      "- Data loaded from cache-file: drive/app/train_split1/inception_dr_train1.pkl\n"
     ]
    }
   ],
   "source": [
    "# Processing transfer values of training set\n",
    "print(\"Processing Inception transfer-values for training-images ...\")\n",
    "transfer_values_train = transfer_values_cache(cache_path=file_path_cache_train1,\n",
    "                                              images=images_train,\n",
    "                                              model=model)"
   ]
  },
  {
   "cell_type": "code",
   "execution_count": 16,
   "metadata": {
    "colab": {
     "autoexec": {
      "startup": false,
      "wait_interval": 0
     },
     "base_uri": "https://localhost:8080/",
     "height": 55
    },
    "colab_type": "code",
    "executionInfo": {
     "elapsed": 5181,
     "status": "ok",
     "timestamp": 1528495558095,
     "user": {
      "displayName": "nassim guergouri",
      "photoUrl": "https://lh3.googleusercontent.com/a/default-user=s128",
      "userId": "107153118297599416470"
     },
     "user_tz": -60
    },
    "id": "M4OCqzYI4rTG",
    "outputId": "0acfab21-29de-45a9-b3a0-3c7040a0fdc5"
   },
   "outputs": [
    {
     "name": "stdout",
     "output_type": "stream",
     "text": [
      "Processing Inception transfer-values for test-images ...\n",
      "- Data loaded from cache-file: drive/app/train_split1/inception_dr_test1.pkl\n"
     ]
    }
   ],
   "source": [
    "# Processing transfer values of testing set\n",
    "print(\"Processing Inception transfer-values for test-images ...\")\n",
    "transfer_values_test = transfer_values_cache(cache_path=file_path_cache_test,\n",
    "                                             images=x_train,\n",
    "                                             model=model)"
   ]
  },
  {
   "cell_type": "code",
   "execution_count": 17,
   "metadata": {
    "colab": {
     "autoexec": {
      "startup": false,
      "wait_interval": 0
     },
     "base_uri": "https://localhost:8080/",
     "height": 36
    },
    "colab_type": "code",
    "executionInfo": {
     "elapsed": 541,
     "status": "ok",
     "timestamp": 1528495559192,
     "user": {
      "displayName": "nassim guergouri",
      "photoUrl": "https://lh3.googleusercontent.com/a/default-user=s128",
      "userId": "107153118297599416470"
     },
     "user_tz": -60
    },
    "id": "wb-abGVPA4T2",
    "outputId": "fa1558de-41a2-48dd-c3b5-6e8354680930"
   },
   "outputs": [
    {
     "data": {
      "text/plain": [
       "(41123, 2048)"
      ]
     },
     "execution_count": 17,
     "metadata": {
      "tags": []
     },
     "output_type": "execute_result"
    }
   ],
   "source": [
    "transfer_values_train.shape"
   ]
  },
  {
   "cell_type": "code",
   "execution_count": 18,
   "metadata": {
    "colab": {
     "autoexec": {
      "startup": false,
      "wait_interval": 0
     },
     "base_uri": "https://localhost:8080/",
     "height": 36
    },
    "colab_type": "code",
    "executionInfo": {
     "elapsed": 539,
     "status": "ok",
     "timestamp": 1528495561980,
     "user": {
      "displayName": "nassim guergouri",
      "photoUrl": "https://lh3.googleusercontent.com/a/default-user=s128",
      "userId": "107153118297599416470"
     },
     "user_tz": -60
    },
    "id": "CvlYdv2iA7-M",
    "outputId": "0fca75a0-effc-43dd-8984-58d0d1f805d9"
   },
   "outputs": [
    {
     "data": {
      "text/plain": [
       "(10149, 2048)"
      ]
     },
     "execution_count": 18,
     "metadata": {
      "tags": []
     },
     "output_type": "execute_result"
    }
   ],
   "source": [
    "transfer_values_test.shape"
   ]
  },
  {
   "cell_type": "code",
   "execution_count": 0,
   "metadata": {
    "colab": {
     "autoexec": {
      "startup": false,
      "wait_interval": 0
     }
    },
    "colab_type": "code",
    "collapsed": true,
    "id": "GGJXSrNOA_3W"
   },
   "outputs": [],
   "source": [
    "def plot_transfer_values(i):\n",
    "    print(\"Input image:\")\n",
    "    plt.imshow(images_test[i], interpolation='nearest')\n",
    "    plt.show()\n",
    "\n",
    "    print(\"Transfer-values for the image using Inception model:\")\n",
    "    img = transfer_values_test[i]\n",
    "    img = img.reshape((32, 64))\n",
    "    plt.imshow(img, interpolation='nearest', cmap='Reds')\n",
    "    plt.show()"
   ]
  },
  {
   "cell_type": "code",
   "execution_count": 0,
   "metadata": {
    "colab": {
     "autoexec": {
      "startup": false,
      "wait_interval": 0
     },
     "base_uri": "https://localhost:8080/",
     "height": 507
    },
    "colab_type": "code",
    "executionInfo": {
     "elapsed": 2237,
     "status": "ok",
     "timestamp": 1526736195144,
     "user": {
      "displayName": "Nassim Guergouri",
      "photoUrl": "https://lh3.googleusercontent.com/a/default-user=s128",
      "userId": "117311986884585277917"
     },
     "user_tz": -60
    },
    "id": "dnaseQteBHKI",
    "outputId": "4410f0b4-bb47-4bc7-c4e8-e3a511d6124d"
   },
   "outputs": [
    {
     "name": "stdout",
     "output_type": "stream",
     "text": [
      "Input image:\n"
     ]
    },
    {
     "data": {
      "image/png": "[encoded data removed]",
      "text/plain": [
       "<Figure size 432x288 with 1 Axes>"
      ]
     },
     "metadata": {
      "tags": []
     },
     "output_type": "display_data"
    },
    {
     "name": "stdout",
     "output_type": "stream",
     "text": [
      "Transfer-values for the image using Inception model:\n"
     ]
    },
    {
     "data": {
      "image/png": "[encoded data removed]",
      "text/plain": [
       "<Figure size 432x288 with 1 Axes>"
      ]
     },
     "metadata": {
      "tags": []
     },
     "output_type": "display_data"
    }
   ],
   "source": [
    "plot_transfer_values(i=16)"
   ]
  },
  {
   "cell_type": "code",
   "execution_count": 0,
   "metadata": {
    "colab": {
     "autoexec": {
      "startup": false,
      "wait_interval": 0
     }
    },
    "colab_type": "code",
    "collapsed": true,
    "id": "tOlJ1CibDYb6"
   },
   "outputs": [],
   "source": [
    "transfer_len = model.transfer_len"
   ]
  },
  {
   "cell_type": "code",
   "execution_count": 0,
   "metadata": {
    "colab": {
     "autoexec": {
      "startup": false,
      "wait_interval": 0
     }
    },
    "colab_type": "code",
    "collapsed": true,
    "id": "yvGI0bM6DZm4"
   },
   "outputs": [],
   "source": [
    "x = tf.placeholder(tf.float32, shape=[None, transfer_len], name='x')"
   ]
  },
  {
   "cell_type": "code",
   "execution_count": 0,
   "metadata": {
    "colab": {
     "autoexec": {
      "startup": false,
      "wait_interval": 0
     }
    },
    "colab_type": "code",
    "collapsed": true,
    "id": "AQ5DTsJBDd2E"
   },
   "outputs": [],
   "source": [
    "y_true = tf.placeholder(tf.float32, shape=[None, 5], name='y_true')"
   ]
  },
  {
   "cell_type": "code",
   "execution_count": 0,
   "metadata": {
    "colab": {
     "autoexec": {
      "startup": false,
      "wait_interval": 0
     }
    },
    "colab_type": "code",
    "collapsed": true,
    "id": "LNht86_TDh-E"
   },
   "outputs": [],
   "source": [
    "y_true_cls = tf.argmax(y_true, axis=1)"
   ]
  },
  {
   "cell_type": "code",
   "execution_count": 0,
   "metadata": {
    "colab": {
     "autoexec": {
      "startup": false,
      "wait_interval": 0
     }
    },
    "colab_type": "code",
    "collapsed": true,
    "id": "CF86uVY5Do8W"
   },
   "outputs": [],
   "source": [
    "with tf.name_scope(\"fc1\"):\n",
    "    fc1 = tf.layers.dense(x, 1024, activation = tf.nn.relu,\n",
    "                          name = \"fc1\")\n",
    "with tf.name_scope(\"drop\"):\n",
    "  drop_out = tf.nn.dropout(fc1, 0.5) \n",
    "with tf.name_scope(\"output\"):\n",
    "    logits = tf.layers.dense(drop_out, 5, name = \"output\")\n",
    "    Y_pred = tf.nn.softmax(logits, name=\"Y_pred\")"
   ]
  },
  {
   "cell_type": "code",
   "execution_count": 0,
   "metadata": {
    "colab": {
     "autoexec": {
      "startup": false,
      "wait_interval": 0
     }
    },
    "colab_type": "code",
    "collapsed": true,
    "id": "KznFROkyGdXN"
   },
   "outputs": [],
   "source": [
    "tf.reset_default_graph()"
   ]
  },
  {
   "cell_type": "code",
   "execution_count": 0,
   "metadata": {
    "colab": {
     "autoexec": {
      "startup": false,
      "wait_interval": 0
     }
    },
    "colab_type": "code",
    "collapsed": true,
    "id": "EngnAKE00icN"
   },
   "outputs": [],
   "source": [
    "with tf.name_scope(\"train\"):\n",
    "    xentropy = tf.nn.softmax_cross_entropy_with_logits_v2(logits=logits, labels=y_true)\n",
    "    loss = tf.reduce_mean(xentropy)\n",
    "    optimizer = tf.train.AdamOptimizer()\n",
    "    training_op = optimizer.minimize(loss)"
   ]
  },
  {
   "cell_type": "code",
   "execution_count": 0,
   "metadata": {
    "colab": {
     "autoexec": {
      "startup": false,
      "wait_interval": 0
     }
    },
    "colab_type": "code",
    "collapsed": true,
    "id": "wU0cW7zJD6w-"
   },
   "outputs": [],
   "source": [
    "y_pred_cls = tf.argmax(Y_pred, axis=1)"
   ]
  },
  {
   "cell_type": "code",
   "execution_count": 0,
   "metadata": {
    "colab": {
     "autoexec": {
      "startup": false,
      "wait_interval": 0
     }
    },
    "colab_type": "code",
    "collapsed": true,
    "id": "GNcfMWAW0sE4"
   },
   "outputs": [],
   "source": [
    "with tf.name_scope(\"eval\"):\n",
    "    correct = tf.equal(y_pred_cls, y_true_cls)\n",
    "    accuracy = tf.reduce_mean(tf.cast(correct, tf.float32))"
   ]
  },
  {
   "cell_type": "code",
   "execution_count": 0,
   "metadata": {
    "colab": {
     "autoexec": {
      "startup": false,
      "wait_interval": 0
     }
    },
    "colab_type": "code",
    "collapsed": true,
    "id": "limIUcq31n6t"
   },
   "outputs": [],
   "source": [
    "x_fashion_train = transfer_values_train\n",
    "y_fashion_train = labels_train"
   ]
  },
  {
   "cell_type": "code",
   "execution_count": 0,
   "metadata": {
    "colab": {
     "autoexec": {
      "startup": false,
      "wait_interval": 0
     }
    },
    "colab_type": "code",
    "collapsed": true,
    "id": "rrQM1xk5EG7e"
   },
   "outputs": [],
   "source": [
    "with tf.name_scope(\"init\"):\n",
    "    session = tf.Session()\n",
    "    session.run(tf.global_variables_initializer())"
   ]
  },
  {
   "cell_type": "code",
   "execution_count": 32,
   "metadata": {
    "colab": {
     "autoexec": {
      "startup": false,
      "wait_interval": 0
     },
     "base_uri": "https://localhost:8080/",
     "height": 1904
    },
    "colab_type": "code",
    "executionInfo": {
     "elapsed": 4378715,
     "status": "ok",
     "timestamp": 1528499982313,
     "user": {
      "displayName": "nassim guergouri",
      "photoUrl": "https://lh3.googleusercontent.com/a/default-user=s128",
      "userId": "107153118297599416470"
     },
     "user_tz": -60
    },
    "id": "aQX5G_vA1C4Y",
    "outputId": "31e7e97c-bb99-4958-9d5e-683d63a56a08"
   },
   "outputs": [
    {
     "name": "stdout",
     "output_type": "stream",
     "text": [
      "Epoch: 1 Train accuracy: 0.806  loss train: 0.5085952 Test accuracy: 0.6633166\n",
      "Epoch: 2 Train accuracy: 0.826  loss train: 0.39628437 Test accuracy: 0.673958\n",
      "Epoch: 3 Train accuracy: 0.84  loss train: 0.4082423 Test accuracy: 0.66252834\n",
      "Epoch: 4 Train accuracy: 0.83  loss train: 0.37113854 Test accuracy: 0.6679476\n",
      "Epoch: 5 Train accuracy: 0.83  loss train: 0.3839017 Test accuracy: 0.6609518\n",
      "Epoch: 6 Train accuracy: 0.828  loss train: 0.38888347 Test accuracy: 0.6653857\n",
      "Epoch: 7 Train accuracy: 0.832  loss train: 0.35567212 Test accuracy: 0.6572076\n",
      "Epoch: 8 Train accuracy: 0.842  loss train: 0.3548201 Test accuracy: 0.6523796\n",
      "Epoch: 9 Train accuracy: 0.862  loss train: 0.33063614 Test accuracy: 0.6493251\n",
      "Epoch: 10 Train accuracy: 0.834  loss train: 0.3391988 Test accuracy: 0.666174\n",
      "Epoch: 11 Train accuracy: 0.844  loss train: 0.32286146 Test accuracy: 0.6558282\n",
      "Epoch: 12 Train accuracy: 0.844  loss train: 0.27821717 Test accuracy: 0.64902943\n",
      "Epoch: 13 Train accuracy: 0.848  loss train: 0.34941772 Test accuracy: 0.6338556\n",
      "Epoch: 14 Train accuracy: 0.828  loss train: 0.3315803 Test accuracy: 0.63671297\n",
      "Epoch: 15 Train accuracy: 0.842  loss train: 0.34640685 Test accuracy: 0.6410484\n",
      "Epoch: 16 Train accuracy: 0.832  loss train: 0.3001599 Test accuracy: 0.6495221\n",
      "Epoch: 17 Train accuracy: 0.832  loss train: 0.30903175 Test accuracy: 0.6442014\n",
      "Epoch: 18 Train accuracy: 0.886  loss train: 0.28361174 Test accuracy: 0.6518869\n",
      "Epoch: 19 Train accuracy: 0.892  loss train: 0.24105115 Test accuracy: 0.65139425\n",
      "Epoch: 20 Train accuracy: 0.85  loss train: 0.27370784 Test accuracy: 0.64705884\n",
      "Epoch: 21 Train accuracy: 0.862  loss train: 0.26684764 Test accuracy: 0.64351165\n",
      "Epoch: 22 Train accuracy: 0.878  loss train: 0.2573251 Test accuracy: 0.65523696\n",
      "Epoch: 23 Train accuracy: 0.9  loss train: 0.2964586 Test accuracy: 0.6412454\n",
      "Epoch: 24 Train accuracy: 0.842  loss train: 0.23203155 Test accuracy: 0.6504089\n",
      "Epoch: 25 Train accuracy: 0.874  loss train: 0.23361133 Test accuracy: 0.6575032\n",
      "Epoch: 26 Train accuracy: 0.888  loss train: 0.23199621 Test accuracy: 0.6605577\n",
      "Epoch: 27 Train accuracy: 0.858  loss train: 0.23582898 Test accuracy: 0.66075474\n",
      "Epoch: 28 Train accuracy: 0.864  loss train: 0.2370049 Test accuracy: 0.64745295\n",
      "Epoch: 29 Train accuracy: 0.894  loss train: 0.22277875 Test accuracy: 0.6545473\n",
      "Epoch: 30 Train accuracy: 0.898  loss train: 0.27463377 Test accuracy: 0.6637107\n",
      "Epoch: 31 Train accuracy: 0.882  loss train: 0.22084725 Test accuracy: 0.6571091\n",
      "Epoch: 32 Train accuracy: 0.894  loss train: 0.2188482 Test accuracy: 0.6558282\n",
      "Epoch: 33 Train accuracy: 0.912  loss train: 0.219317 Test accuracy: 0.65612376\n",
      "Epoch: 34 Train accuracy: 0.896  loss train: 0.20442562 Test accuracy: 0.652281\n",
      "Epoch: 35 Train accuracy: 0.902  loss train: 0.2170801 Test accuracy: 0.6628239\n",
      "Epoch: 36 Train accuracy: 0.904  loss train: 0.21372749 Test accuracy: 0.6562223\n",
      "Epoch: 37 Train accuracy: 0.9  loss train: 0.23133035 Test accuracy: 0.65306926\n",
      "Epoch: 38 Train accuracy: 0.884  loss train: 0.1808325 Test accuracy: 0.65957236\n",
      "Epoch: 39 Train accuracy: 0.912  loss train: 0.20304795 Test accuracy: 0.65770024\n",
      "Epoch: 40 Train accuracy: 0.888  loss train: 0.21880879 Test accuracy: 0.65178835\n",
      "Epoch: 41 Train accuracy: 0.902  loss train: 0.1962014 Test accuracy: 0.6558282\n",
      "Epoch: 42 Train accuracy: 0.916  loss train: 0.24943267 Test accuracy: 0.66390777\n",
      "Epoch: 43 Train accuracy: 0.882  loss train: 0.19307455 Test accuracy: 0.65602523\n",
      "Epoch: 44 Train accuracy: 0.898  loss train: 0.22911377 Test accuracy: 0.66223276\n",
      "Epoch: 45 Train accuracy: 0.908  loss train: 0.18324369 Test accuracy: 0.65602523\n",
      "Epoch: 46 Train accuracy: 0.926  loss train: 0.15966469 Test accuracy: 0.65701056\n",
      "Epoch: 47 Train accuracy: 0.908  loss train: 0.2120339 Test accuracy: 0.6587841\n",
      "Epoch: 48 Train accuracy: 0.922  loss train: 0.183222 Test accuracy: 0.6546458\n",
      "Epoch: 49 Train accuracy: 0.896  loss train: 0.17777456 Test accuracy: 0.6580944\n",
      "Epoch: 50 Train accuracy: 0.9  loss train: 0.20258383 Test accuracy: 0.6563208\n",
      "Epoch: 51 Train accuracy: 0.932  loss train: 0.197133 Test accuracy: 0.6587841\n",
      "Epoch: 52 Train accuracy: 0.896  loss train: 0.19726138 Test accuracy: 0.66075474\n",
      "Epoch: 53 Train accuracy: 0.908  loss train: 0.2215856 Test accuracy: 0.65770024\n",
      "Epoch: 54 Train accuracy: 0.926  loss train: 0.18531509 Test accuracy: 0.65267515\n",
      "Epoch: 55 Train accuracy: 0.916  loss train: 0.18220943 Test accuracy: 0.6602621\n",
      "Epoch: 56 Train accuracy: 0.916  loss train: 0.19330558 Test accuracy: 0.6518869\n",
      "Epoch: 57 Train accuracy: 0.908  loss train: 0.21636882 Test accuracy: 0.65119714\n",
      "Epoch: 58 Train accuracy: 0.926  loss train: 0.17489983 Test accuracy: 0.66045916\n",
      "Epoch: 59 Train accuracy: 0.914  loss train: 0.22663917 Test accuracy: 0.65602523\n",
      "Epoch: 60 Train accuracy: 0.918  loss train: 0.20154403 Test accuracy: 0.66174006\n",
      "Epoch: 61 Train accuracy: 0.912  loss train: 0.20965564 Test accuracy: 0.6596709\n",
      "Epoch: 62 Train accuracy: 0.912  loss train: 0.18653086 Test accuracy: 0.65395606\n",
      "Epoch: 63 Train accuracy: 0.918  loss train: 0.17985688 Test accuracy: 0.6549414\n",
      "Epoch: 64 Train accuracy: 0.9  loss train: 0.17778833 Test accuracy: 0.65513843\n",
      "Epoch: 65 Train accuracy: 0.902  loss train: 0.19408923 Test accuracy: 0.6572076\n",
      "Epoch: 66 Train accuracy: 0.926  loss train: 0.16241814 Test accuracy: 0.6592768\n",
      "Epoch: 67 Train accuracy: 0.92  loss train: 0.20198724 Test accuracy: 0.66775054\n",
      "Epoch: 68 Train accuracy: 0.904  loss train: 0.18413348 Test accuracy: 0.6580944\n",
      "Epoch: 69 Train accuracy: 0.916  loss train: 0.2087624 Test accuracy: 0.65218246\n",
      "Epoch: 70 Train accuracy: 0.902  loss train: 0.211721 Test accuracy: 0.6623313\n",
      "Epoch: 71 Train accuracy: 0.908  loss train: 0.18240312 Test accuracy: 0.65701056\n",
      "Epoch: 72 Train accuracy: 0.91  loss train: 0.19164047 Test accuracy: 0.66607547\n",
      "Epoch: 73 Train accuracy: 0.928  loss train: 0.16855651 Test accuracy: 0.66725785\n",
      "Epoch: 74 Train accuracy: 0.926  loss train: 0.20478591 Test accuracy: 0.6623313\n",
      "Epoch: 75 Train accuracy: 0.94  loss train: 0.17214976 Test accuracy: 0.66479456\n",
      "Epoch: 76 Train accuracy: 0.888  loss train: 0.17953095 Test accuracy: 0.6645975\n",
      "Epoch: 77 Train accuracy: 0.93  loss train: 0.17920119 Test accuracy: 0.6623313\n",
      "Epoch: 78 Train accuracy: 0.924  loss train: 0.13953023 Test accuracy: 0.6641048\n",
      "Epoch: 79 Train accuracy: 0.92  loss train: 0.1888695 Test accuracy: 0.6596709\n",
      "Epoch: 80 Train accuracy: 0.928  loss train: 0.13122535 Test accuracy: 0.664499\n",
      "Epoch: 81 Train accuracy: 0.924  loss train: 0.18318778 Test accuracy: 0.66124743\n",
      "Epoch: 82 Train accuracy: 0.914  loss train: 0.1972317 Test accuracy: 0.65868556\n",
      "Epoch: 83 Train accuracy: 0.918  loss train: 0.18710434 Test accuracy: 0.6701153\n",
      "Epoch: 84 Train accuracy: 0.932  loss train: 0.1376698 Test accuracy: 0.6572076\n",
      "Epoch: 85 Train accuracy: 0.916  loss train: 0.19729772 Test accuracy: 0.6658784\n",
      "Epoch: 86 Train accuracy: 0.916  loss train: 0.15583587 Test accuracy: 0.6596709\n",
      "Epoch: 87 Train accuracy: 0.932  loss train: 0.1644888 Test accuracy: 0.66292244\n",
      "Epoch: 88 Train accuracy: 0.926  loss train: 0.17768921 Test accuracy: 0.6705094\n",
      "Epoch: 89 Train accuracy: 0.93  loss train: 0.17836441 Test accuracy: 0.6673564\n",
      "Epoch: 90 Train accuracy: 0.938  loss train: 0.15159637 Test accuracy: 0.66607547\n",
      "Epoch: 91 Train accuracy: 0.912  loss train: 0.16578129 Test accuracy: 0.6633166\n",
      "Epoch: 92 Train accuracy: 0.926  loss train: 0.14220476 Test accuracy: 0.6689329\n",
      "Epoch: 93 Train accuracy: 0.934  loss train: 0.12858906 Test accuracy: 0.6679476\n",
      "Epoch: 94 Train accuracy: 0.912  loss train: 0.1677923 Test accuracy: 0.6541531\n",
      "Epoch: 95 Train accuracy: 0.93  loss train: 0.18221377 Test accuracy: 0.6610504\n",
      "Epoch: 96 Train accuracy: 0.936  loss train: 0.13501824 Test accuracy: 0.666174\n",
      "Epoch: 97 Train accuracy: 0.938  loss train: 0.17589438 Test accuracy: 0.6624298\n",
      "Epoch: 98 Train accuracy: 0.934  loss train: 0.15844157 Test accuracy: 0.6624298\n",
      "Epoch: 99 Train accuracy: 0.956  loss train: 0.16341949 Test accuracy: 0.666174\n",
      "Epoch: 100 Train accuracy: 0.946  loss train: 0.1412766 Test accuracy: 0.66686374\n"
     ]
    }
   ],
   "source": [
    "n_epochs = 100\n",
    "step_par_epoch = 100\n",
    "batch_size = 500\n",
    "loss_list=[]\n",
    "accu = []\n",
    "loss_test_list=[]\n",
    "accu_test = []\n",
    "for epoch in range(n_epochs):\n",
    "    for step in range(step_par_epoch):\n",
    "        for iteration in range(len(transfer_values_train) // batch_size):\n",
    "            #this cycle is for dividing step by step the heavy work of each neuron\n",
    "            X_batch = x_fashion_train[iteration*batch_size:iteration*batch_size+batch_size]\n",
    "            y_batch = y_fashion_train[iteration*batch_size:iteration*batch_size+batch_size]\n",
    "            session.run(training_op, feed_dict={x: X_batch, y_true: y_batch})\n",
    "        _,loss_value = session.run([training_op,loss],feed_dict={x: X_batch, y_true: y_batch})\n",
    "        acc_train = session.run(accuracy,feed_dict={x: X_batch, y_true: y_batch})\n",
    "        loss_list.append(loss_value)\n",
    "        accu.append(acc_train)\n",
    "        acc_test = session.run(accuracy,feed_dict={x:transfer_values_test,y_true: labels_test})\n",
    "        accu_test.append(acc_test) \n",
    "        print(\"Epoch:\",epoch+1, \"Train accuracy:\", acc_train,\" loss train:\",loss_value, \"Test accuracy:\",acc_test)\n",
    "\n",
    "np.savetxt(\"drive/app/loss_train_incep1.txt\",loss_list)\n",
    "np.savetxt(\"drive/app/accu_train_incep1.txt\",accu)\n",
    "np.savetxt(\"drive/app/accu_test_incep1.txt\",accu_test)"
   ]
  },
  {
   "cell_type": "code",
   "execution_count": 34,
   "metadata": {
    "colab": {
     "autoexec": {
      "startup": false,
      "wait_interval": 0
     },
     "base_uri": "https://localhost:8080/",
     "height": 36
    },
    "colab_type": "code",
    "executionInfo": {
     "elapsed": 17706,
     "status": "ok",
     "timestamp": 1528500065750,
     "user": {
      "displayName": "nassim guergouri",
      "photoUrl": "https://lh3.googleusercontent.com/a/default-user=s128",
      "userId": "107153118297599416470"
     },
     "user_tz": -60
    },
    "id": "j8dzVO6jcdlk",
    "outputId": "6f57e4a0-2ace-4cb9-e4b2-b0b0ab1ea563"
   },
   "outputs": [
    {
     "name": "stdout",
     "output_type": "stream",
     "text": [
      "Model saved in path: drive/app/train_split1/inception_weight.ckpt\n"
     ]
    }
   ],
   "source": [
    "# Save model\n",
    "saver = tf.train.Saver()\n",
    "save_path = saver.save(session, \"drive/app/train_split1/inception_weight.ckpt\")\n",
    "print(\"Model saved in path: %s\" % save_path)"
   ]
  },
  {
   "cell_type": "code",
   "execution_count": 0,
   "metadata": {
    "colab": {
     "autoexec": {
      "startup": false,
      "wait_interval": 0
     }
    },
    "colab_type": "code",
    "collapsed": true,
    "id": "-WgFl0nGEvOE"
   },
   "outputs": [],
   "source": [
    "def plot_example_errors(cls_pred, correct):\n",
    "    incorrect = (correct == False)\n",
    "    images = images_test[incorrect]\n",
    "    cls_pred = cls_pred[incorrect]\n",
    "    cls_true = cls_test[incorrect]\n",
    "\n",
    "    n = min(9, len(images))\n",
    "    plot_images(images=images[0:n],\n",
    "                cls_true=cls_true[0:n],\n",
    "                cls_pred=cls_pred[0:n])"
   ]
  },
  {
   "cell_type": "code",
   "execution_count": 0,
   "metadata": {
    "colab": {
     "autoexec": {
      "startup": false,
      "wait_interval": 0
     }
    },
    "colab_type": "code",
    "collapsed": true,
    "id": "lXu-k17OE-US"
   },
   "outputs": [],
   "source": [
    "from sklearn.metrics import confusion_matrix\n",
    "\n",
    "def plot_confusion_matrix(cls_pred):\n",
    "    cm = confusion_matrix(y_true=cls_test,  # True class for test-set.\n",
    "                          y_pred=cls_pred)  # Predicted class.\n",
    "\n",
    "    for i in range(5):\n",
    "        class_name = \"({}) {}\".format(i, class_names[i])\n",
    "        print(cm[i, :], class_name)\n",
    "\n",
    "    class_numbers = [\" ({0})\".format(i) for i in range(5)]\n",
    "    print(\"\".join(class_numbers))"
   ]
  },
  {
   "cell_type": "code",
   "execution_count": 0,
   "metadata": {
    "colab": {
     "autoexec": {
      "startup": false,
      "wait_interval": 0
     }
    },
    "colab_type": "code",
    "collapsed": true,
    "id": "NClMsXmhFBrS"
   },
   "outputs": [],
   "source": [
    "batch_size = 200\n",
    "\n",
    "def predict_cls(transfer_values, labels, cls_true):\n",
    "    num_images = len(transfer_values)\n",
    "    cls_pred = np.zeros(shape=num_images, dtype=np.int)\n",
    "    i = 0\n",
    "\n",
    "    while i < num_images:\n",
    "        j = min(i + batch_size, num_images)\n",
    "        feed_dict = {x: transfer_values[i:j],\n",
    "                     y_true: labels[i:j]}\n",
    "        cls_pred[i:j] = session.run(y_pred_cls, feed_dict=feed_dict)\n",
    "        i = j\n",
    "        \n",
    "    correct = (cls_true == cls_pred)\n",
    "\n",
    "    return correct, cls_pred"
   ]
  },
  {
   "cell_type": "code",
   "execution_count": 0,
   "metadata": {
    "colab": {
     "autoexec": {
      "startup": false,
      "wait_interval": 0
     }
    },
    "colab_type": "code",
    "collapsed": true,
    "id": "97efWcmMFMCy"
   },
   "outputs": [],
   "source": [
    "def predict_cls_test():\n",
    "    return predict_cls(transfer_values = transfer_values_test,\n",
    "                       labels = labels_test,\n",
    "                       cls_true = cls_test)"
   ]
  },
  {
   "cell_type": "code",
   "execution_count": 0,
   "metadata": {
    "colab": {
     "autoexec": {
      "startup": false,
      "wait_interval": 0
     }
    },
    "colab_type": "code",
    "collapsed": true,
    "id": "zs8Bg3bAhLvI"
   },
   "outputs": [],
   "source": [
    "cls_test = np.asarray([np.where(r==1)[0][0] for r in labels_test])"
   ]
  },
  {
   "cell_type": "code",
   "execution_count": 0,
   "metadata": {
    "colab": {
     "autoexec": {
      "startup": false,
      "wait_interval": 0
     }
    },
    "colab_type": "code",
    "collapsed": true,
    "id": "unrJtjfoFPTs"
   },
   "outputs": [],
   "source": [
    "def classification_accuracy(correct):\n",
    "    return correct.mean(), correct.sum()"
   ]
  },
  {
   "cell_type": "code",
   "execution_count": 0,
   "metadata": {
    "colab": {
     "autoexec": {
      "startup": false,
      "wait_interval": 0
     }
    },
    "colab_type": "code",
    "collapsed": true,
    "id": "NbH4x3uVFU2Q"
   },
   "outputs": [],
   "source": [
    "def print_test_accuracy(show_example_errors=False,\n",
    "                        show_confusion_matrix=False):\n",
    "    correct, cls_pred = predict_cls_test()\n",
    "    acc, num_correct = classification_accuracy(correct)\n",
    "    num_images = len(correct)\n",
    "    msg = \"Accuracy on Test-Set: {0:.1%} ({1} / {2})\"\n",
    "    print(msg.format(acc, num_correct, num_images))\n",
    "    if show_example_errors:\n",
    "        print(\"Example errors:\")\n",
    "        plot_example_errors(cls_pred=cls_pred, correct=correct)\n",
    "    if show_confusion_matrix:\n",
    "        print(\"Confusion Matrix:\")\n",
    "        plot_confusion_matrix(cls_pred=cls_pred)"
   ]
  },
  {
   "cell_type": "code",
   "execution_count": 0,
   "metadata": {
    "colab": {
     "autoexec": {
      "startup": false,
      "wait_interval": 0
     }
    },
    "colab_type": "code",
    "collapsed": true,
    "id": "m7j5b1UxGMTG"
   },
   "outputs": [],
   "source": [
    "class_names=['0','1','2','3','4']"
   ]
  },
  {
   "cell_type": "code",
   "execution_count": 0,
   "metadata": {
    "colab": {
     "autoexec": {
      "startup": false,
      "wait_interval": 0
     }
    },
    "colab_type": "code",
    "collapsed": true,
    "id": "dR_97ojIFz-W"
   },
   "outputs": [],
   "source": [
    "def plot_images(images, cls_true, cls_pred=None, smooth=True):\n",
    "\n",
    "    assert len(images) == len(cls_true)\n",
    "    fig, axes = plt.subplots(3, 3)\n",
    "    if cls_pred is None:\n",
    "        hspace = 0.3\n",
    "    else:\n",
    "        hspace = 0.6\n",
    "    fig.subplots_adjust(hspace=hspace, wspace=0.3)\n",
    "    if smooth:\n",
    "        interpolation = 'spline16'\n",
    "    else:\n",
    "        interpolation = 'nearest'\n",
    "\n",
    "    for i, ax in enumerate(axes.flat):\n",
    "        if i < len(images):\n",
    "            ax.imshow(images[i],\n",
    "                      interpolation=interpolation)\n",
    "            cls_true_name = class_names[cls_true[i]]\n",
    "            if cls_pred is None:\n",
    "                xlabel = \"True: {0}\".format(cls_true_name)\n",
    "            else:\n",
    "                cls_pred_name = class_names[cls_pred[i]]\n",
    "\n",
    "                xlabel = \"True: {0}\\nPred: {1}\".format(cls_true_name, cls_pred_name)\n",
    "\n",
    "            ax.set_xlabel(xlabel)\n",
    "        \n",
    "        ax.set_xticks([])\n",
    "        ax.set_yticks([])\n",
    "    \n",
    "    plt.show()"
   ]
  },
  {
   "cell_type": "code",
   "execution_count": 44,
   "metadata": {
    "colab": {
     "autoexec": {
      "startup": false,
      "wait_interval": 0
     },
     "base_uri": "https://localhost:8080/",
     "height": 168
    },
    "colab_type": "code",
    "executionInfo": {
     "elapsed": 618,
     "status": "ok",
     "timestamp": 1528500084699,
     "user": {
      "displayName": "nassim guergouri",
      "photoUrl": "https://lh3.googleusercontent.com/a/default-user=s128",
      "userId": "107153118297599416470"
     },
     "user_tz": -60
    },
    "id": "imOhzDheFWKK",
    "outputId": "dbc0bff3-3266-442b-fad8-4c447f33aac9"
   },
   "outputs": [
    {
     "name": "stdout",
     "output_type": "stream",
     "text": [
      "Accuracy on Test-Set: 67.0% (6800 / 10149)\n",
      "Confusion Matrix:\n",
      "[4024  293  514   40   25] (0) 0\n",
      "[271 756 294  31   2] (1) 1\n",
      "[ 680  390 1744  133   58] (2) 2\n",
      "[ 63  33 236 141  31] (3) 3\n",
      "[ 38  20 158  39 135] (4) 4\n",
      " (0) (1) (2) (3) (4)\n"
     ]
    }
   ],
   "source": [
    "print_test_accuracy(show_example_errors=False,\n",
    "                    show_confusion_matrix=True)"
   ]
  }
 ],
 "metadata": {
  "accelerator": "GPU",
  "colab": {
   "collapsed_sections": [],
   "default_view": {},
   "name": "Inception.ipynb",
   "provenance": [],
   "version": "0.3.2",
   "views": {}
  },
  "kernelspec": {
   "display_name": "Python 3",
   "language": "python",
   "name": "python3"
  },
  "language_info": {
   "codemirror_mode": {
    "name": "ipython",
    "version": 3
   },
   "file_extension": ".py",
   "mimetype": "text/x-python",
   "name": "python",
   "nbconvert_exporter": "python",
   "pygments_lexer": "ipython3",
   "version": "3.6.3"
  }
 },
 "nbformat": 4,
 "nbformat_minor": 1
}
